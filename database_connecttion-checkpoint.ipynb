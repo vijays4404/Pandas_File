{
 "cells": [
  {
   "cell_type": "code",
   "execution_count": 33,
   "metadata": {},
   "outputs": [],
   "source": [
    "import pandas as pd\n",
    "import sqlite3"
   ]
  },
  {
   "cell_type": "code",
   "execution_count": 31,
   "metadata": {},
   "outputs": [],
   "source": [
    "#connecting sqlite with jupyter notebook\n",
    "con=sqlite3.connect('employee.db')"
   ]
  },
  {
   "cell_type": "code",
   "execution_count": 22,
   "metadata": {},
   "outputs": [],
   "source": [
    "cur=con.cursor()"
   ]
  },
  {
   "cell_type": "code",
   "execution_count": 23,
   "metadata": {
    "scrolled": true
   },
   "outputs": [
    {
     "name": "stdout",
     "output_type": "stream",
     "text": [
      "(7369, 'Smith', 'Clerk', 7902, '1980-12-17', 800, None, 20)\n",
      "(7499, 'Allen', 'Salesman', 7698, '1981-02-20', 1600, 300, 30)\n",
      "(7521, 'Ward', 'Salesman', 7698, '1981-02-22', 1250, 500, 30)\n",
      "(7566, 'Jones', 'Manager', 7839, '1981-04-02', 2975, None, 20)\n",
      "(7654, 'Martin', 'Salesman', 7698, '1981-09-28', 1250, 1400, 30)\n",
      "(7698, 'Blake', 'Manager', 7839, '1981-05-01', 2850, None, 30)\n",
      "(7782, 'Clark', 'Manager', 7839, '1981-06-09', 2450, None, 10)\n",
      "(7788, 'Scott', 'Analyst', 7566, '1982-12-09', 3000, None, 20)\n",
      "(7839, 'King', 'President', 7499, '1981-11-17', 5000, None, 10)\n",
      "(7844, 'Turner', 'Salesman', 7698, '1981-09-08', 1500, 0, 30)\n",
      "(7876, 'Adams', 'Clerk', 7788, '1983-01-12', 1100, None, 20)\n",
      "(7900, 'James', 'Clerk', 7698, '1981-12-02', 950, None, 30)\n",
      "(7902, 'Ford', 'Analyst', 7566, '1981-12-03', 3000, None, 20)\n",
      "(7934, 'Miller', 'Clerk', 7782, '1982-01-23', 1300, None, 10)\n"
     ]
    }
   ],
   "source": [
    "#querying database with select command\n",
    "for row in cur.execute('Select * from tblEmployInformation;'):\n",
    "    print(row)"
   ]
  },
  {
   "cell_type": "code",
   "execution_count": 29,
   "metadata": {},
   "outputs": [
    {
     "name": "stdout",
     "output_type": "stream",
     "text": [
      "(10, 'Accounting', 'New York')\n",
      "(20, 'Research', ' Dallas')\n",
      "(30, 'Sales', 'Chicago')\n",
      "(40, 'Operations', 'Bostons')\n"
     ]
    }
   ],
   "source": [
    "#querying database with select command\n",
    "for row in cur.execute('Select * from tblDepartment'):\n",
    "    print(row)"
   ]
  },
  {
   "cell_type": "code",
   "execution_count": 44,
   "metadata": {
    "scrolled": true
   },
   "outputs": [
    {
     "name": "stdout",
     "output_type": "stream",
     "text": [
      "(7369, 'Smith')\n",
      "(7499, 'Allen')\n",
      "(7521, 'Ward')\n",
      "(7566, 'Jones')\n",
      "(7654, 'Martin')\n",
      "(7698, 'Blake')\n",
      "(7782, 'Clark')\n",
      "(7788, 'Scott')\n",
      "(7839, 'King')\n",
      "(7844, 'Turner')\n",
      "(7876, 'Adams')\n",
      "(7900, 'James')\n",
      "(7902, 'Ford')\n",
      "(7934, 'Miller')\n"
     ]
    }
   ],
   "source": [
    "for row in cur.execute('Select Empno,Ename from tblEmployInformation;'):\n",
    "    print(row)"
   ]
  },
  {
   "cell_type": "code",
   "execution_count": 54,
   "metadata": {},
   "outputs": [
    {
     "name": "stdout",
     "output_type": "stream",
     "text": [
      "(7369, 'Smith', 'Clerk', 7902, '1980-12-17', 800, None, 20, 7902, 3000)\n",
      "(7499, 'Allen', 'Salesman', 7698, '1981-02-20', 1600, 300, 30, 7698, 2850)\n",
      "(7521, 'Ward', 'Salesman', 7698, '1981-02-22', 1250, 500, 30, 7698, 2850)\n",
      "(7566, 'Jones', 'Manager', 7839, '1981-04-02', 2975, None, 20, 7839, 5000)\n",
      "(7654, 'Martin', 'Salesman', 7698, '1981-09-28', 1250, 1400, 30, 7698, 2850)\n",
      "(7698, 'Blake', 'Manager', 7839, '1981-05-01', 2850, None, 30, 7839, 5000)\n",
      "(7782, 'Clark', 'Manager', 7839, '1981-06-09', 2450, None, 10, 7839, 5000)\n",
      "(7844, 'Turner', 'Salesman', 7698, '1981-09-08', 1500, 0, 30, 7698, 2850)\n",
      "(7876, 'Adams', 'Clerk', 7788, '1983-01-12', 1100, None, 20, 7788, 3000)\n",
      "(7900, 'James', 'Clerk', 7698, '1981-12-02', 950, None, 30, 7698, 2850)\n",
      "(7934, 'Miller', 'Clerk', 7782, '1982-01-23', 1300, None, 10, 7782, 2450)\n"
     ]
    }
   ],
   "source": [
    "#querying table with where clause\n",
    "for row in cur.execute(\"\"\"select * from tblEmployInformation e, (select EmpNo,Sal from tblEmployInformation where EmpNo in (select distinct mgr from tblEmployInformation)\n",
    ") as v where e.mgr=v.EmpNo and e.Sal<v.Sal ;\"\"\"):\n",
    "    print(row)"
   ]
  },
  {
   "cell_type": "code",
   "execution_count": 58,
   "metadata": {},
   "outputs": [],
   "source": [
    "#adding sql table to pandas dataframe\n",
    "df=pd.read_sql('select * from tblDepartment',con=con)"
   ]
  },
  {
   "cell_type": "code",
   "execution_count": 57,
   "metadata": {},
   "outputs": [
    {
     "data": {
      "text/html": [
       "<div>\n",
       "<style scoped>\n",
       "    .dataframe tbody tr th:only-of-type {\n",
       "        vertical-align: middle;\n",
       "    }\n",
       "\n",
       "    .dataframe tbody tr th {\n",
       "        vertical-align: top;\n",
       "    }\n",
       "\n",
       "    .dataframe thead th {\n",
       "        text-align: right;\n",
       "    }\n",
       "</style>\n",
       "<table border=\"1\" class=\"dataframe\">\n",
       "  <thead>\n",
       "    <tr style=\"text-align: right;\">\n",
       "      <th></th>\n",
       "      <th>Deptno</th>\n",
       "      <th>Dname</th>\n",
       "      <th>LOC</th>\n",
       "    </tr>\n",
       "  </thead>\n",
       "  <tbody>\n",
       "    <tr>\n",
       "      <th>0</th>\n",
       "      <td>10</td>\n",
       "      <td>Accounting</td>\n",
       "      <td>New York</td>\n",
       "    </tr>\n",
       "    <tr>\n",
       "      <th>1</th>\n",
       "      <td>20</td>\n",
       "      <td>Research</td>\n",
       "      <td>Dallas</td>\n",
       "    </tr>\n",
       "    <tr>\n",
       "      <th>2</th>\n",
       "      <td>30</td>\n",
       "      <td>Sales</td>\n",
       "      <td>Chicago</td>\n",
       "    </tr>\n",
       "    <tr>\n",
       "      <th>3</th>\n",
       "      <td>40</td>\n",
       "      <td>Operations</td>\n",
       "      <td>Bostons</td>\n",
       "    </tr>\n",
       "  </tbody>\n",
       "</table>\n",
       "</div>"
      ],
      "text/plain": [
       "   Deptno       Dname       LOC\n",
       "0      10  Accounting  New York\n",
       "1      20    Research    Dallas\n",
       "2      30       Sales   Chicago\n",
       "3      40  Operations   Bostons"
      ]
     },
     "execution_count": 57,
     "metadata": {},
     "output_type": "execute_result"
    }
   ],
   "source": [
    "df"
   ]
  },
  {
   "cell_type": "code",
   "execution_count": 61,
   "metadata": {},
   "outputs": [],
   "source": [
    "df=pd.read_sql(\"\"\"select * from tblEmployInformation e, (select EmpNo,Sal from tblEmployInformation where EmpNo in (select distinct mgr from tblEmployInformation)\n",
    ") as v where e.mgr=v.EmpNo and e.Sal<v.Sal ;\"\"\",con=con)"
   ]
  },
  {
   "cell_type": "code",
   "execution_count": null,
   "metadata": {},
   "outputs": [],
   "source": []
  },
  {
   "cell_type": "code",
   "execution_count": 62,
   "metadata": {},
   "outputs": [
    {
     "data": {
      "text/html": [
       "<div>\n",
       "<style scoped>\n",
       "    .dataframe tbody tr th:only-of-type {\n",
       "        vertical-align: middle;\n",
       "    }\n",
       "\n",
       "    .dataframe tbody tr th {\n",
       "        vertical-align: top;\n",
       "    }\n",
       "\n",
       "    .dataframe thead th {\n",
       "        text-align: right;\n",
       "    }\n",
       "</style>\n",
       "<table border=\"1\" class=\"dataframe\">\n",
       "  <thead>\n",
       "    <tr style=\"text-align: right;\">\n",
       "      <th></th>\n",
       "      <th>EmpNo</th>\n",
       "      <th>Ename</th>\n",
       "      <th>Job</th>\n",
       "      <th>mgr</th>\n",
       "      <th>HireDate</th>\n",
       "      <th>Sal</th>\n",
       "      <th>Comm</th>\n",
       "      <th>Deptno</th>\n",
       "      <th>EmpNo</th>\n",
       "      <th>Sal</th>\n",
       "    </tr>\n",
       "  </thead>\n",
       "  <tbody>\n",
       "    <tr>\n",
       "      <th>0</th>\n",
       "      <td>7369</td>\n",
       "      <td>Smith</td>\n",
       "      <td>Clerk</td>\n",
       "      <td>7902</td>\n",
       "      <td>1980-12-17</td>\n",
       "      <td>800</td>\n",
       "      <td>NaN</td>\n",
       "      <td>20</td>\n",
       "      <td>7902</td>\n",
       "      <td>3000</td>\n",
       "    </tr>\n",
       "    <tr>\n",
       "      <th>1</th>\n",
       "      <td>7499</td>\n",
       "      <td>Allen</td>\n",
       "      <td>Salesman</td>\n",
       "      <td>7698</td>\n",
       "      <td>1981-02-20</td>\n",
       "      <td>1600</td>\n",
       "      <td>300.0</td>\n",
       "      <td>30</td>\n",
       "      <td>7698</td>\n",
       "      <td>2850</td>\n",
       "    </tr>\n",
       "    <tr>\n",
       "      <th>2</th>\n",
       "      <td>7521</td>\n",
       "      <td>Ward</td>\n",
       "      <td>Salesman</td>\n",
       "      <td>7698</td>\n",
       "      <td>1981-02-22</td>\n",
       "      <td>1250</td>\n",
       "      <td>500.0</td>\n",
       "      <td>30</td>\n",
       "      <td>7698</td>\n",
       "      <td>2850</td>\n",
       "    </tr>\n",
       "    <tr>\n",
       "      <th>3</th>\n",
       "      <td>7566</td>\n",
       "      <td>Jones</td>\n",
       "      <td>Manager</td>\n",
       "      <td>7839</td>\n",
       "      <td>1981-04-02</td>\n",
       "      <td>2975</td>\n",
       "      <td>NaN</td>\n",
       "      <td>20</td>\n",
       "      <td>7839</td>\n",
       "      <td>5000</td>\n",
       "    </tr>\n",
       "    <tr>\n",
       "      <th>4</th>\n",
       "      <td>7654</td>\n",
       "      <td>Martin</td>\n",
       "      <td>Salesman</td>\n",
       "      <td>7698</td>\n",
       "      <td>1981-09-28</td>\n",
       "      <td>1250</td>\n",
       "      <td>1400.0</td>\n",
       "      <td>30</td>\n",
       "      <td>7698</td>\n",
       "      <td>2850</td>\n",
       "    </tr>\n",
       "    <tr>\n",
       "      <th>5</th>\n",
       "      <td>7698</td>\n",
       "      <td>Blake</td>\n",
       "      <td>Manager</td>\n",
       "      <td>7839</td>\n",
       "      <td>1981-05-01</td>\n",
       "      <td>2850</td>\n",
       "      <td>NaN</td>\n",
       "      <td>30</td>\n",
       "      <td>7839</td>\n",
       "      <td>5000</td>\n",
       "    </tr>\n",
       "    <tr>\n",
       "      <th>6</th>\n",
       "      <td>7782</td>\n",
       "      <td>Clark</td>\n",
       "      <td>Manager</td>\n",
       "      <td>7839</td>\n",
       "      <td>1981-06-09</td>\n",
       "      <td>2450</td>\n",
       "      <td>NaN</td>\n",
       "      <td>10</td>\n",
       "      <td>7839</td>\n",
       "      <td>5000</td>\n",
       "    </tr>\n",
       "    <tr>\n",
       "      <th>7</th>\n",
       "      <td>7844</td>\n",
       "      <td>Turner</td>\n",
       "      <td>Salesman</td>\n",
       "      <td>7698</td>\n",
       "      <td>1981-09-08</td>\n",
       "      <td>1500</td>\n",
       "      <td>0.0</td>\n",
       "      <td>30</td>\n",
       "      <td>7698</td>\n",
       "      <td>2850</td>\n",
       "    </tr>\n",
       "    <tr>\n",
       "      <th>8</th>\n",
       "      <td>7876</td>\n",
       "      <td>Adams</td>\n",
       "      <td>Clerk</td>\n",
       "      <td>7788</td>\n",
       "      <td>1983-01-12</td>\n",
       "      <td>1100</td>\n",
       "      <td>NaN</td>\n",
       "      <td>20</td>\n",
       "      <td>7788</td>\n",
       "      <td>3000</td>\n",
       "    </tr>\n",
       "    <tr>\n",
       "      <th>9</th>\n",
       "      <td>7900</td>\n",
       "      <td>James</td>\n",
       "      <td>Clerk</td>\n",
       "      <td>7698</td>\n",
       "      <td>1981-12-02</td>\n",
       "      <td>950</td>\n",
       "      <td>NaN</td>\n",
       "      <td>30</td>\n",
       "      <td>7698</td>\n",
       "      <td>2850</td>\n",
       "    </tr>\n",
       "    <tr>\n",
       "      <th>10</th>\n",
       "      <td>7934</td>\n",
       "      <td>Miller</td>\n",
       "      <td>Clerk</td>\n",
       "      <td>7782</td>\n",
       "      <td>1982-01-23</td>\n",
       "      <td>1300</td>\n",
       "      <td>NaN</td>\n",
       "      <td>10</td>\n",
       "      <td>7782</td>\n",
       "      <td>2450</td>\n",
       "    </tr>\n",
       "  </tbody>\n",
       "</table>\n",
       "</div>"
      ],
      "text/plain": [
       "    EmpNo   Ename       Job   mgr    HireDate   Sal    Comm  Deptno  EmpNo  \\\n",
       "0    7369   Smith     Clerk  7902  1980-12-17   800     NaN      20   7902   \n",
       "1    7499   Allen  Salesman  7698  1981-02-20  1600   300.0      30   7698   \n",
       "2    7521    Ward  Salesman  7698  1981-02-22  1250   500.0      30   7698   \n",
       "3    7566   Jones   Manager  7839  1981-04-02  2975     NaN      20   7839   \n",
       "4    7654  Martin  Salesman  7698  1981-09-28  1250  1400.0      30   7698   \n",
       "5    7698   Blake   Manager  7839  1981-05-01  2850     NaN      30   7839   \n",
       "6    7782   Clark   Manager  7839  1981-06-09  2450     NaN      10   7839   \n",
       "7    7844  Turner  Salesman  7698  1981-09-08  1500     0.0      30   7698   \n",
       "8    7876   Adams     Clerk  7788  1983-01-12  1100     NaN      20   7788   \n",
       "9    7900   James     Clerk  7698  1981-12-02   950     NaN      30   7698   \n",
       "10   7934  Miller     Clerk  7782  1982-01-23  1300     NaN      10   7782   \n",
       "\n",
       "     Sal  \n",
       "0   3000  \n",
       "1   2850  \n",
       "2   2850  \n",
       "3   5000  \n",
       "4   2850  \n",
       "5   5000  \n",
       "6   5000  \n",
       "7   2850  \n",
       "8   3000  \n",
       "9   2850  \n",
       "10  2450  "
      ]
     },
     "execution_count": 62,
     "metadata": {},
     "output_type": "execute_result"
    }
   ],
   "source": [
    "df"
   ]
  },
  {
   "cell_type": "code",
   "execution_count": null,
   "metadata": {},
   "outputs": [],
   "source": []
  }
 ],
 "metadata": {
  "kernelspec": {
   "display_name": "Python 3",
   "language": "python",
   "name": "python3"
  },
  "language_info": {
   "codemirror_mode": {
    "name": "ipython",
    "version": 3
   },
   "file_extension": ".py",
   "mimetype": "text/x-python",
   "name": "python",
   "nbconvert_exporter": "python",
   "pygments_lexer": "ipython3",
   "version": "3.8.5"
  }
 },
 "nbformat": 4,
 "nbformat_minor": 4
}
